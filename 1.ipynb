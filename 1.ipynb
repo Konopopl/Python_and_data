{
  "cells": [
    {
      "cell_type": "markdown",
      "metadata": {
        "id": "-L4HuL3L0oRf"
      },
      "source": [
        "#### Постановка задачи:\n",
        "\n",
        "- В данной работе нужно решить набор задач, проверяющих владение базовыми инструментами языка.\n",
        "- Каждая задача представляет собой написание одной или более функций, а также набора тестов, проверяющих работу этой функции в общих и крайних случаях.\n",
        "- Отсутствие тестов автоматически уменьшает количество баллов за задание как минимум в два раза, некачественные тесты также будут штрафоваться.\n",
        "- Если в задании указано использовать несколько разных вариантов решения, подразумевается использование различных инструментов (циклы, списковые включения, генераторы, встроенные функции, функции модулей стандартной библотеки и т.п.), замена, например, цикла for на цикл while не является иным способом решения.\n",
        "- Даже если это не указано явно в требованиях, код должен быть по возможности неизбыточным, работать с разумной сложностью и объёмом потребялемой памяти, проверяющие могут снизить балл за задание, выполненное без учёта этого требования.\n",
        "- Результирующий код должен быть читаемым, с единой системой отступов и адеквантными названиями переменных, проверяющие могут снизить балл за задание, выполненное без учёта этого требования."
      ]
    },
    {
      "cell_type": "markdown",
      "metadata": {
        "id": "AmnC4D_-0oRo"
      },
      "source": [
        "__Задание 1 (0.5 балла):__ Дано натуральное число. Требуется определить, является ли год с данным номером високосным. Если год является високосным, то выведите YES, иначе выведите NO. Напомним, что в соответствии с григорианским календарем, год является високосным, если его номер кратен 4, но не кратен 100, а также если он кратен 400."
      ]
    },
    {
      "cell_type": "code",
      "execution_count": null,
      "metadata": {
        "id": "_hn0O5hK0oRq"
      },
      "outputs": [],
      "source": [
        "def task_01_func(year):\n",
        "    if (year % 4 == 0) and (year % 100 != 0) or (year % 400 == 0):\n",
        "         print(\"YES\")\n",
        "    else:\n",
        "        print(\"NO\")"
      ]
    },
    {
      "cell_type": "code",
      "execution_count": null,
      "metadata": {
        "id": "u8N-S4Bz0oRt",
        "outputId": "e5a1d096-a014-4b7b-af1a-064f73abd126",
        "colab": {
          "base_uri": "https://localhost:8080/"
        }
      },
      "outputs": [
        {
          "output_type": "stream",
          "name": "stdout",
          "text": [
            "NO\n",
            "YES\n",
            "NO\n",
            "YES\n",
            "NO\n",
            "YES\n",
            "NO\n"
          ]
        }
      ],
      "source": [
        "task_01_func(1)\n",
        "task_01_func(4)\n",
        "task_01_func(2015)\n",
        "task_01_func(2020)\n",
        "task_01_func(2100)\n",
        "task_01_func(1600)\n",
        "task_01_func(2022)"
      ]
    },
    {
      "cell_type": "markdown",
      "metadata": {
        "id": "Kwfr6UPZ0oRx"
      },
      "source": [
        "__Задание 2 (0.5 балла):__ Дано натуральное число. Найдите число знаков в его десятичной записи. Предложите как минимум два различных решения."
      ]
    },
    {
      "cell_type": "code",
      "execution_count": null,
      "metadata": {
        "id": "qv0Idjgm0oRy"
      },
      "outputs": [],
      "source": [
        "def task_02_func(number):\n",
        "    print(len(str(number)))"
      ]
    },
    {
      "cell_type": "code",
      "execution_count": null,
      "metadata": {
        "id": "GQgPIe0m0oRz"
      },
      "outputs": [],
      "source": [
        "def task_02_func2(number):\n",
        "    n = 0\n",
        "    if (number > 0):\n",
        "        while(number > 0):\n",
        "            number //= 10\n",
        "            n += 1\n",
        "    else:\n",
        "        n = 1\n",
        "    print(n)"
      ]
    },
    {
      "cell_type": "code",
      "execution_count": null,
      "metadata": {
        "id": "c5DMIYyS0oR0",
        "outputId": "21e7b3f4-6d31-4d5e-e1cd-a5416ece9063",
        "colab": {
          "base_uri": "https://localhost:8080/"
        }
      },
      "outputs": [
        {
          "output_type": "stream",
          "name": "stdout",
          "text": [
            "7\n",
            "7\n",
            "1\n",
            "1\n"
          ]
        }
      ],
      "source": [
        "task_02_func(5362782)\n",
        "task_02_func2(5362782)\n",
        "task_02_func(1)\n",
        "task_02_func2(0)"
      ]
    },
    {
      "cell_type": "markdown",
      "metadata": {
        "id": "37cbWiNh0oR0"
      },
      "source": [
        "__Задание 3 (0.5 балла):__ По данному натуральном n вычислите сумму 1!+2!+3!+...+n!. В решении этой задачи с помощью циклов можно использовать только один цикл. Предложите как минимум два различных решения."
      ]
    },
    {
      "cell_type": "code",
      "execution_count": null,
      "metadata": {
        "id": "NsX0YnD90oR1",
        "jupyter": {
          "outputs_hidden": true
        }
      },
      "outputs": [],
      "source": [
        "def task_03_func(n):\n",
        "    count = 0\n",
        "    fact = 1\n",
        "    for i in range(1, n + 1):\n",
        "        fact *= i\n",
        "        count += fact\n",
        "    return count"
      ]
    },
    {
      "cell_type": "code",
      "execution_count": null,
      "metadata": {
        "id": "D1KyIkiO0oR2"
      },
      "outputs": [],
      "source": [
        "# 1! + 2! + ... + n! = 1(1+2(1+3(1+...(n-1)(1+n)))) - тут (n-1) скобок\n",
        "def task_03_func2(n):\n",
        "    count = 0\n",
        "    for i in range(n, 0, -1): \n",
        "        count = (count+1) * i\n",
        "    return count"
      ]
    },
    {
      "cell_type": "code",
      "execution_count": null,
      "metadata": {
        "id": "5pQZO69u0oR3",
        "outputId": "d07b2d7f-430c-43e1-f6b9-11fac7d8722f",
        "colab": {
          "base_uri": "https://localhost:8080/"
        }
      },
      "outputs": [
        {
          "output_type": "stream",
          "name": "stdout",
          "text": [
            "1\n",
            "1\n",
            "9\n",
            "9\n",
            "153\n",
            "153\n"
          ]
        }
      ],
      "source": [
        "print(task_03_func(1))\n",
        "print(task_03_func2(1))\n",
        "print(task_03_func(3))\n",
        "print(task_03_func2(3))\n",
        "print(task_03_func(5))\n",
        "print(task_03_func2(5))"
      ]
    },
    {
      "cell_type": "markdown",
      "metadata": {
        "id": "w-zDDFSR0oR4"
      },
      "source": [
        "__Задание 4 (0.5 балла):__ Определить, является ли введённая строка палиндромом (то есть одинаково читается с обеих сторон). Предложите как минимум три различных решения."
      ]
    },
    {
      "cell_type": "code",
      "execution_count": null,
      "metadata": {
        "id": "sVzIzv5g0oR5",
        "jupyter": {
          "outputs_hidden": true
        }
      },
      "outputs": [],
      "source": [
        "def task_04_func(s):\n",
        "    return s == s[::-1]    "
      ]
    },
    {
      "cell_type": "code",
      "execution_count": null,
      "metadata": {
        "id": "xv4-JloE0oR5",
        "outputId": "45fa12e7-8bd8-43e7-eeaa-fcf774bfafa2",
        "colab": {
          "base_uri": "https://localhost:8080/"
        }
      },
      "outputs": [
        {
          "output_type": "stream",
          "name": "stdout",
          "text": [
            "True\n",
            "False\n",
            "True\n",
            "True\n",
            "False\n"
          ]
        }
      ],
      "source": [
        "print(task_04_func('1235321'))\n",
        "print(task_04_func('12341234'))\n",
        "print(task_04_func('123321'))\n",
        "print(task_04_func('7'))\n",
        "print(task_04_func('70'))"
      ]
    },
    {
      "cell_type": "code",
      "execution_count": null,
      "metadata": {
        "id": "uVdDqFZf0oR6"
      },
      "outputs": [],
      "source": [
        "def task_04_func2(s):\n",
        "    for i in range(len(s) // 2):\n",
        "        if s[i] != s[-i - 1]:\n",
        "            return False            \n",
        "    return True"
      ]
    },
    {
      "cell_type": "code",
      "execution_count": null,
      "metadata": {
        "id": "XLxoaXSA0oR7",
        "outputId": "194fc3de-35ef-413a-97cd-30afa6fd868b",
        "colab": {
          "base_uri": "https://localhost:8080/"
        }
      },
      "outputs": [
        {
          "output_type": "stream",
          "name": "stdout",
          "text": [
            "True\n",
            "False\n",
            "True\n",
            "True\n",
            "False\n"
          ]
        }
      ],
      "source": [
        "print(task_04_func2('1235321'))\n",
        "print(task_04_func2('12341234'))\n",
        "print(task_04_func2('123321'))\n",
        "print(task_04_func2('7'))\n",
        "print(task_04_func('70'))"
      ]
    },
    {
      "cell_type": "code",
      "execution_count": null,
      "metadata": {
        "id": "IVdKYv4N0oR8"
      },
      "outputs": [],
      "source": [
        "def task_04_func3(s): \n",
        "    first_half = s[:len(s) // 2]\n",
        "    second_half = s[len(s) // 2 + len(s) % 2:]\n",
        "    return first_half == second_half[::-1]"
      ]
    },
    {
      "cell_type": "code",
      "execution_count": null,
      "metadata": {
        "id": "Azi6C4Qm0oR8",
        "outputId": "0a16a687-50df-4aac-a403-32ca291a88d2",
        "colab": {
          "base_uri": "https://localhost:8080/"
        }
      },
      "outputs": [
        {
          "output_type": "stream",
          "name": "stdout",
          "text": [
            "True\n",
            "False\n",
            "True\n",
            "True\n",
            "False\n"
          ]
        }
      ],
      "source": [
        "print(task_04_func3('1235321'))\n",
        "print(task_04_func3('12341234'))\n",
        "print(task_04_func3('123321'))\n",
        "print(task_04_func3('7'))\n",
        "print(task_04_func('70'))"
      ]
    },
    {
      "cell_type": "markdown",
      "metadata": {
        "id": "WlUXjPs30oR-"
      },
      "source": [
        "__Задание 5 (1 балл):__ Дан текст в виде строки. Напишите функцию, которая возвращает словарь, где ключами являются уникальные слова из этого текста, а значениями - число раз, которое данное слово встретилось в тексте. Считать, что слова разделяются пробелами. Предложите как минимум два различных решения."
      ]
    },
    {
      "cell_type": "code",
      "source": [
        "def task_05_func(text):\n",
        "    d = {}\n",
        "    words = text.lower().split()\n",
        "    for word in words:\n",
        "        clear_word = word.strip('.,!?;:()')\n",
        "        if clear_word in d:\n",
        "            d[clear_word] += 1\n",
        "        else:\n",
        "            d[clear_word] = 1\n",
        "    return d"
      ],
      "metadata": {
        "id": "VhSteZl_sXEd"
      },
      "execution_count": null,
      "outputs": []
    },
    {
      "cell_type": "code",
      "execution_count": null,
      "metadata": {
        "id": "bV7hziSz0oSC"
      },
      "outputs": [],
      "source": [
        "def task_05_func2(text):\n",
        "    d = {}\n",
        "    words = text.lower().split()\n",
        "    for word in words:\n",
        "        clear_word = word.strip('.,!?;:)—(-0123456789 ')\n",
        "        d[clear_word] = d.get(clear_word, 0) + 1\n",
        "    return d"
      ]
    },
    {
      "cell_type": "code",
      "execution_count": null,
      "metadata": {
        "id": "Ad0ILht_0oSD",
        "outputId": "1ee0f7f0-9ae0-494a-bd29-81cb323a6e6f",
        "colab": {
          "base_uri": "https://localhost:8080/"
        }
      },
      "outputs": [
        {
          "output_type": "stream",
          "name": "stdout",
          "text": [
            "{}\n",
            "{}\n",
            "{'a': 1, 'b': 2, 'c': 1, 'aa': 1, 'bb': 1, 'ccc': 1}\n",
            "{'a': 1, 'b': 2, 'c': 1, 'aa': 1, 'bb': 1, 'ccc': 1}\n",
            "{'a': 2, 'b': 2, 'c': 1, 'aa': 2, 'bb': 1, 'cc': 1, '13': 1, '12': 1}\n",
            "{'a': 2, 'b': 2, 'c': 1, 'aa': 2, 'bb': 1, 'cc': 1, '13': 1, '12': 1}\n"
          ]
        }
      ],
      "source": [
        "print(task_05_func(\"\"))\n",
        "print(task_05_func2(\"\"))\n",
        "print(task_05_func(\"a, b. c! b; :aa bb? ccc\"))\n",
        "print(task_05_func2(\"a, b. c! b; :aa bb? ccc\"))\n",
        "print(task_05_func(\"A, a b. c! b; :aa bb? Cc 13 aa 12\"))\n",
        "print(task_05_func(\"A, a b. c! b; :aa bb? Cc 13 aa 12\"))"
      ]
    },
    {
      "cell_type": "markdown",
      "metadata": {
        "id": "bgMzNItV0oSE"
      },
      "source": [
        "__Задание 6 (1 балл):__ Напишите функцию, которая принимает на вход строку и символ и возвращает:\n",
        "\n",
        "- если символ встретился в строке один раз - кортеж (индекс вхождения, None);\n",
        "- если два и более раз - кортеж (индекс первого вхождения, индекс последнего вхождения);\n",
        "- если ни разу - кортеж (None, None).\n",
        "\n",
        "Запрещается делать более одного прохода по каждому элементу строки."
      ]
    },
    {
      "cell_type": "code",
      "execution_count": null,
      "metadata": {
        "id": "VKbcO10P0oSF",
        "tags": []
      },
      "outputs": [],
      "source": [
        "def task_06_func(input_str, input_char):\n",
        "    a = input_str.find(input_char)\n",
        "    b = input_str.rfind(input_char)\n",
        "    if a == b:\n",
        "        b = None\n",
        "    if a == -1:\n",
        "        a = None\n",
        "    return (a, b)"
      ]
    },
    {
      "cell_type": "code",
      "execution_count": null,
      "metadata": {
        "id": "Iy8oSXIf0oSG",
        "outputId": "6a6a0b97-c7ea-4781-9c60-8d8038297e39",
        "colab": {
          "base_uri": "https://localhost:8080/"
        }
      },
      "outputs": [
        {
          "output_type": "stream",
          "name": "stdout",
          "text": [
            "(2, None)\n",
            "(4, 6)\n",
            "(None, None)\n",
            "(None, None)\n",
            "(0, 6)\n",
            "(0, 3)\n"
          ]
        }
      ],
      "source": [
        "print(task_06_func('abcdef', 'c'))\n",
        "print(task_06_func('abcdefe', 'e'))\n",
        "print(task_06_func(\"abcde\", \"f\"))\n",
        "print(task_06_func('','a'))\n",
        "print(task_06_func('aaaaaaa','a'))\n",
        "print(task_06_func('abba','a'))"
      ]
    },
    {
      "cell_type": "markdown",
      "metadata": {
        "id": "48ztuwpn0oSH"
      },
      "source": [
        "__Задание 7 (1 балл):__ Дан список целых чисел. Напишите функцию, которая возвращает копию этого списка, из которой удалены отрицательные числа, а все прочие числа возведены в квадрат. Также возвращаемая последовательность должна быть отсортирована по убыванию. Предложите как минимум три различных решения."
      ]
    },
    {
      "cell_type": "code",
      "execution_count": null,
      "metadata": {
        "id": "A_Yh7aLu0oSI",
        "tags": []
      },
      "outputs": [],
      "source": [
        "def task_07_func(lst):\n",
        "    y = []\n",
        "    for x in lst:\n",
        "        if x >= 0:\n",
        "            y.append(x*x)\n",
        "    y.sort(reverse = True)\n",
        "    return y"
      ]
    },
    {
      "cell_type": "code",
      "execution_count": null,
      "metadata": {
        "id": "UUgrCK1d0oSI",
        "outputId": "dc6ea447-bd4f-4806-cd76-9399ab2cd7ce",
        "colab": {
          "base_uri": "https://localhost:8080/"
        }
      },
      "outputs": [
        {
          "output_type": "stream",
          "name": "stdout",
          "text": [
            "[16, 4, 1]\n",
            "[16, 4, 1]\n",
            "[9, 4, 1]\n",
            "[]\n",
            "[121, 49, 25, 4, 0]\n",
            "[]\n"
          ]
        }
      ],
      "source": [
        "print(task_07_func([1, 2, -3, 4]))\n",
        "print(task_07_func([4, -3, 1, 2]))\n",
        "print(task_07_func([3, 1, 2]))\n",
        "print(task_07_func([-3, -1, -2]))\n",
        "print(task_07_func([2, -3, 5, -6, 7, 0, -10, 11]))\n",
        "print(task_07_func([]))"
      ]
    },
    {
      "cell_type": "code",
      "execution_count": null,
      "metadata": {
        "id": "xVERaH4G0oSJ"
      },
      "outputs": [],
      "source": [
        "def task_07_func2(lst):\n",
        "    result = [i ** 2 for i in lst if i >= 0]\n",
        "    return sorted(result, reverse=True)"
      ]
    },
    {
      "cell_type": "code",
      "execution_count": null,
      "metadata": {
        "id": "ORNTXd2o0oSK",
        "outputId": "7aa8988c-2959-4ab4-a9b3-eed09ea88871",
        "colab": {
          "base_uri": "https://localhost:8080/"
        }
      },
      "outputs": [
        {
          "output_type": "stream",
          "name": "stdout",
          "text": [
            "[16, 4, 1]\n",
            "[16, 4, 1]\n",
            "[9, 4, 1]\n",
            "[]\n",
            "[121, 49, 25, 4, 0]\n",
            "[]\n"
          ]
        }
      ],
      "source": [
        "print(task_07_func2([1, 2, -3, 4]))\n",
        "print(task_07_func2([4, -3, 1, 2]))\n",
        "print(task_07_func2([3, 1, 2]))\n",
        "print(task_07_func2([-3, -1, -2]))\n",
        "print(task_07_func2([2, -3, 5, -6, 7, 0, -10, 11]))\n",
        "print(task_07_func2([]))"
      ]
    },
    {
      "cell_type": "code",
      "execution_count": null,
      "metadata": {
        "id": "4iS72d2z0oSL"
      },
      "outputs": [],
      "source": [
        "def task_07_func3(lst):\n",
        "    y = []\n",
        "    for x in lst:\n",
        "        if x >= 0:\n",
        "            y.append(x)\n",
        "    y.sort(reverse = True)\n",
        "    return list(map(lambda z: z * z, y))"
      ]
    },
    {
      "cell_type": "code",
      "execution_count": null,
      "metadata": {
        "id": "n1qWfulH0oSL",
        "outputId": "65e97f79-2564-4372-bde5-fdec64cf5d73",
        "colab": {
          "base_uri": "https://localhost:8080/"
        }
      },
      "outputs": [
        {
          "output_type": "stream",
          "name": "stdout",
          "text": [
            "[16, 4, 1]\n",
            "[16, 4, 1]\n",
            "[9, 4, 1]\n",
            "[]\n",
            "[121, 49, 25, 4, 0]\n",
            "[]\n"
          ]
        }
      ],
      "source": [
        "print(task_07_func3([1, 2, -3, 4]))\n",
        "print(task_07_func3([4, -3, 1, 2]))\n",
        "print(task_07_func3([3, 1, 2]))\n",
        "print(task_07_func3([-3, -1, -2]))\n",
        "print(task_07_func3([2, -3, 5, -6, 7, 0, -10, 11]))\n",
        "print(task_07_func3([]))"
      ]
    },
    {
      "cell_type": "markdown",
      "metadata": {
        "id": "UF0PEYVm0oSM"
      },
      "source": [
        "__Задание 8 (1 балл):__ Напишите функцию, которая принимает на вход список кортежей одинаковой длины и индекс `index` элемента в кортеже и возвращает генератор, итерирование по которому позволит получит все кортежи входного списка, отсортированные по убыванию элементов этих кортежей с индексом `index`."
      ]
    },
    {
      "cell_type": "code",
      "execution_count": null,
      "metadata": {
        "colab": {
          "base_uri": "https://localhost:8080/",
          "height": 246
        },
        "id": "ctdrhT8E1zmZ",
        "outputId": "0c6bfa42-8bff-4476-e41a-898801b6109f"
      },
      "outputs": [
        {
          "output_type": "error",
          "ename": "NameError",
          "evalue": "ignored",
          "traceback": [
            "\u001b[0;31m---------------------------------------------------------------------------\u001b[0m",
            "\u001b[0;31mNameError\u001b[0m                                 Traceback (most recent call last)",
            "\u001b[0;32m<ipython-input-35-1004d688f43b>\u001b[0m in \u001b[0;36m<module>\u001b[0;34m\u001b[0m\n\u001b[1;32m      5\u001b[0m     \u001b[0;32mreturn\u001b[0m \u001b[0;34m(\u001b[0m\u001b[0mb\u001b[0m \u001b[0;32mfor\u001b[0m \u001b[0ma\u001b[0m\u001b[0;34m,\u001b[0m \u001b[0mb\u001b[0m \u001b[0;32min\u001b[0m \u001b[0msorted\u001b[0m\u001b[0;34m(\u001b[0m\u001b[0;34m(\u001b[0m\u001b[0;34m(\u001b[0m\u001b[0mtup\u001b[0m\u001b[0;34m[\u001b[0m\u001b[0mindex\u001b[0m\u001b[0;34m]\u001b[0m\u001b[0;34m,\u001b[0m \u001b[0mtup\u001b[0m\u001b[0;34m)\u001b[0m \u001b[0;32mfor\u001b[0m \u001b[0mtup\u001b[0m \u001b[0;32min\u001b[0m \u001b[0mlst\u001b[0m\u001b[0;34m)\u001b[0m\u001b[0;34m,\u001b[0m \u001b[0mreverse\u001b[0m\u001b[0;34m=\u001b[0m\u001b[0;32mTrue\u001b[0m\u001b[0;34m)\u001b[0m\u001b[0;34m)\u001b[0m\u001b[0;34m\u001b[0m\u001b[0;34m\u001b[0m\u001b[0m\n\u001b[1;32m      6\u001b[0m \u001b[0;34m\u001b[0m\u001b[0m\n\u001b[0;32m----> 7\u001b[0;31m \u001b[0mq\u001b[0m \u001b[0;34m=\u001b[0m \u001b[0mtask_08\u001b[0m\u001b[0;34m(\u001b[0m\u001b[0;34m[\u001b[0m\u001b[0;34m(\u001b[0m\u001b[0;36m2\u001b[0m\u001b[0;34m,\u001b[0m \u001b[0;36m5\u001b[0m\u001b[0;34m,\u001b[0m \u001b[0;36m8\u001b[0m\u001b[0;34m,\u001b[0m \u001b[0;36m10\u001b[0m\u001b[0;34m)\u001b[0m\u001b[0;34m,\u001b[0m \u001b[0;34m(\u001b[0m\u001b[0;36m3\u001b[0m\u001b[0;34m,\u001b[0m \u001b[0;36m4\u001b[0m\u001b[0;34m,\u001b[0m \u001b[0;36m9\u001b[0m\u001b[0;34m,\u001b[0m \u001b[0;36m1\u001b[0m\u001b[0;34m)\u001b[0m\u001b[0;34m,\u001b[0m \u001b[0;34m(\u001b[0m\u001b[0;36m2\u001b[0m\u001b[0;34m,\u001b[0m \u001b[0;36m6\u001b[0m\u001b[0;34m,\u001b[0m \u001b[0;36m6\u001b[0m\u001b[0;34m,\u001b[0m \u001b[0;36m7\u001b[0m\u001b[0;34m)\u001b[0m\u001b[0;34m,\u001b[0m \u001b[0;34m(\u001b[0m\u001b[0;36m2\u001b[0m\u001b[0;34m,\u001b[0m \u001b[0;36m3\u001b[0m\u001b[0;34m,\u001b[0m \u001b[0;36m1\u001b[0m\u001b[0;34m,\u001b[0m \u001b[0;36m2\u001b[0m\u001b[0;34m)\u001b[0m\u001b[0;34m,\u001b[0m \u001b[0;34m(\u001b[0m\u001b[0;36m2\u001b[0m\u001b[0;34m,\u001b[0m \u001b[0;36m8\u001b[0m\u001b[0;34m,\u001b[0m \u001b[0;36m9\u001b[0m\u001b[0;34m,\u001b[0m \u001b[0;36m10\u001b[0m\u001b[0;34m)\u001b[0m\u001b[0;34m]\u001b[0m\u001b[0;34m,\u001b[0m \u001b[0;36m2\u001b[0m\u001b[0;34m)\u001b[0m\u001b[0;34m\u001b[0m\u001b[0;34m\u001b[0m\u001b[0m\n\u001b[0m\u001b[1;32m      8\u001b[0m \u001b[0;34m\u001b[0m\u001b[0m\n\u001b[1;32m      9\u001b[0m \u001b[0;32mfor\u001b[0m \u001b[0m_\u001b[0m \u001b[0;32min\u001b[0m \u001b[0;34m[\u001b[0m\u001b[0;36m1\u001b[0m\u001b[0;34m,\u001b[0m\u001b[0;36m2\u001b[0m\u001b[0;34m]\u001b[0m\u001b[0;34m:\u001b[0m\u001b[0;34m\u001b[0m\u001b[0;34m\u001b[0m\u001b[0m\n",
            "\u001b[0;31mNameError\u001b[0m: name 'task_08' is not defined"
          ]
        }
      ],
      "source": [
        "#генераторы списков? лекция 1 (57:00) и 2\n",
        "\n",
        "def task_08_func(lst, index):\n",
        "\n",
        "    return (b for a, b in sorted(((tup[index], tup) for tup in lst), reverse=True))\n",
        "\n",
        "q = task_08([(2, 5, 8, 10), (3, 4, 9, 1), (2, 6, 6, 7), (2, 3, 1, 2), (2, 8, 9, 10)], 2)\n",
        "\n",
        "for _ in [1,2]:\n",
        "    for p in q:\n",
        "        print(p)"
      ]
    },
    {
      "cell_type": "code",
      "execution_count": null,
      "metadata": {
        "colab": {
          "base_uri": "https://localhost:8080/"
        },
        "id": "WCEiS5mJ6R_L",
        "outputId": "d7e40d22-46c0-4562-f290-7ee04ada7c02"
      },
      "outputs": [
        {
          "output_type": "stream",
          "name": "stdout",
          "text": [
            "(3, 4, 9, 1) (2, 8, 9, 10) (2, 5, 8, 10) (2, 6, 6, 7) (2, 3, 1, 2)\n"
          ]
        }
      ],
      "source": [
        "gen = task_08_func([(2, 5, 8, 10), (3, 4, 9, 1), (2, 6, 6, 7), (2, 3, 1, 2), (2, 8, 9, 10)], 2)\n",
        "\n",
        "print(next(gen), next(gen), next(gen), next(gen), next(gen))"
      ]
    },
    {
      "cell_type": "markdown",
      "metadata": {
        "id": "k9pjc1Hy0oSO"
      },
      "source": [
        "__Задание 9 (1 балл):__ Напишите функцию, которая получает на вход натуральное число `n` и выводит первые `n` строк треугольника Паскаля."
      ]
    },
    {
      "cell_type": "markdown",
      "metadata": {
        "id": "r6ieMqMI0oSP"
      },
      "source": [
        "![image.png](attachment:image.png)"
      ]
    },
    {
      "cell_type": "code",
      "execution_count": null,
      "metadata": {
        "id": "t6iCYsHW0oSP",
        "jupyter": {
          "outputs_hidden": true
        }
      },
      "outputs": [],
      "source": [
        "def task_09_func(n):\n",
        "    tr = [[1], [1, 1]]\n",
        " \n",
        "    for i in range(2, n):\n",
        "        row = [1] * (i + 1)\n",
        "        for j in range(1, i):\n",
        "            row[j] = tr[i-1][j-1] + tr[i-1][j]\n",
        "        tr.append(row)\n",
        "    \n",
        "    max_len = len(' '.join(list(map(str, tr[-1]))))\n",
        "    \n",
        "    \n",
        "    for i in range(n):\n",
        "        len_i = len(' '.join(list(map(str, tr[i]))))\n",
        "        spaces = ' ' * ((max_len - len_i) // 2)\n",
        "        print(spaces, end='')\n",
        "        print(*tr[i])"
      ]
    },
    {
      "cell_type": "code",
      "execution_count": null,
      "metadata": {
        "id": "MwwjLqnU0oSQ",
        "outputId": "c635102b-383b-4bb6-a9b2-a058e4665c43",
        "colab": {
          "base_uri": "https://localhost:8080/"
        }
      },
      "outputs": [
        {
          "output_type": "stream",
          "name": "stdout",
          "text": [
            " 1\n",
            "\n",
            " 1\n",
            "1 1\n",
            "\n",
            "    1\n",
            "   1 1\n",
            "  1 2 1\n",
            " 1 3 3 1\n",
            "1 4 6 4 1\n",
            "\n",
            "             1\n",
            "            1 1\n",
            "           1 2 1\n",
            "          1 3 3 1\n",
            "         1 4 6 4 1\n",
            "       1 5 10 10 5 1\n",
            "     1 6 15 20 15 6 1\n",
            "    1 7 21 35 35 21 7 1\n",
            "  1 8 28 56 70 56 28 8 1\n",
            "1 9 36 84 126 126 84 36 9 1\n"
          ]
        }
      ],
      "source": [
        "task_09_func(1)\n",
        "print()\n",
        "task_09_func(2)\n",
        "print()\n",
        "task_09_func(5)\n",
        "print()\n",
        "task_09_func(10)"
      ]
    },
    {
      "cell_type": "markdown",
      "metadata": {
        "id": "dLWsqxFE0oSR"
      },
      "source": [
        "__Задание 10 (1 балл):__ Напишите функцию, которая принимает на вход абсолютный путь к директории и две строки с расширениями файлов. В результате её выполнения у всех файлов в указанной директории, имеющих первое расширение, расширение должно измениться на второе. В конце работы функция должна возвращать кортеж из двух элементов:\n",
        "\n",
        "1. сколько всего в директории файлов (именно файлов, не директорий);\n",
        "2. у скольки из них расширение было изменено.\n",
        "\n",
        "Допускается только один проход по каждому файлу из указанной директории."
      ]
    },
    {
      "cell_type": "code",
      "execution_count": null,
      "metadata": {
        "id": "DZ9bdGgc0oSS",
        "jupyter": {
          "outputs_hidden": true
        }
      },
      "outputs": [],
      "source": [
        "import os\n",
        "def task_10_func(dir_path, prev_extension, next_extension):\n",
        "    count_files = 0\n",
        "    count_changes = 0\n",
        "    for filename in os.listdir(dir_path):\n",
        "        if os.path.isfile(dir_path + '\\\\' + filename):\n",
        "            pre, ext = os.path.splitext(filename)\n",
        "            count_files += 1\n",
        "            if ext == prev_extension:\n",
        "                os.rename(dir_path + '\\\\' + pre + prev_extension, dir_path + '\\\\' + pre + next_extension)\n",
        "                count_changes += 1\n",
        "    return count_files, count_changes"
      ]
    },
    {
      "cell_type": "code",
      "execution_count": null,
      "metadata": {
        "id": "mA3-1S7o0oST",
        "outputId": "e4756a5a-91fd-4d5d-d873-f1a6b966ad11",
        "colab": {
          "base_uri": "https://localhost:8080/"
        }
      },
      "outputs": [
        {
          "output_type": "stream",
          "name": "stdout",
          "text": [
            "['README.md', 'anscombe.json', 'california_housing_train.csv', 'mnist_train_small.csv', 'california_housing_test.csv', 'mnist_test.csv']\n",
            "['README.md', 'anscombe.json', 'california_housing_train.csv', 'mnist_train_small.csv', 'california_housing_test.csv', 'mnist_test.csv']\n"
          ]
        }
      ],
      "source": [
        "#test\n",
        "path = r'/content/sample_data'\n",
        "path1 = r'/content/1.csv'\n",
        "path2 = r'/content/22.xlsx' \n",
        "\n",
        "print(os.listdir(path))\n",
        "os.rename(path1, path2)\n",
        "print(os.listdir(path))"
      ]
    },
    {
      "cell_type": "code",
      "execution_count": null,
      "metadata": {
        "id": "5fNWHvt20oSU",
        "outputId": "d5c6906d-0769-4ae3-a7ca-cdb37e0a2d6d",
        "colab": {
          "base_uri": "https://localhost:8080/"
        }
      },
      "outputs": [
        {
          "output_type": "stream",
          "name": "stdout",
          "text": [
            "['README.md', 'anscombe.json', 'california_housing_train.csv', 'mnist_train_small.csv', 'california_housing_test.csv', 'mnist_test.csv']\n",
            "(0, 0)\n",
            "['README.md', 'anscombe.json', 'california_housing_train.csv', 'mnist_train_small.csv', 'california_housing_test.csv', 'mnist_test.csv']\n"
          ]
        }
      ],
      "source": [
        "#test\n",
        "path = r'/content/sample_data'\n",
        "prev = '.csv'\n",
        "next_e = '.txt'\n",
        "print(os.listdir(path))\n",
        "print(task_10_func(path, prev, next_e))\n",
        "print(os.listdir(path))"
      ]
    },
    {
      "cell_type": "markdown",
      "metadata": {
        "id": "r8dmZTPA0oSV"
      },
      "source": [
        "__Задание 11 (1 балл):__ Описать функцию, которая принимает на вход два списка и возвращает список уникальных элементов, которые есть в первом входном списке и отсутствуют во втором. Запрещается использовать циклы и списковые включения/генераторы списков."
      ]
    },
    {
      "cell_type": "code",
      "execution_count": null,
      "metadata": {
        "id": "ecSXKuNn0oSW",
        "jupyter": {
          "outputs_hidden": true
        }
      },
      "outputs": [],
      "source": [
        "def task_11_func(first_list, second_list):\n",
        "    myset = set(first_list) - set(second_list)\n",
        "    return list(myset)"
      ]
    },
    {
      "cell_type": "code",
      "execution_count": null,
      "metadata": {
        "id": "TMh5gHLy0oSW",
        "outputId": "afc500d7-623d-4571-b4e9-ad30fc4be2bd",
        "colab": {
          "base_uri": "https://localhost:8080/"
        }
      },
      "outputs": [
        {
          "output_type": "stream",
          "name": "stdout",
          "text": [
            "[1, 2, 3]\n",
            "[]\n",
            "[1, 2]\n",
            "[]\n"
          ]
        }
      ],
      "source": [
        "print(task_11_func([1, 2, 2, 2, 3, 3, 4, 5], [4, 5, 6, 7, 8]))\n",
        "print(task_11_func([], []))\n",
        "print(task_11_func([1, 2], []))\n",
        "print(task_11_func([], [1, 2]))"
      ]
    },
    {
      "cell_type": "markdown",
      "metadata": {
        "id": "r5C_1Jh20oSY"
      },
      "source": [
        "__Задание 12 (1 балл):__ Напишите функцию, которая получает на вход путь к файлу, в котором в каждой строке записано одно вещественное число, а также путь к выходному файлу. Функция должна прочитать содержимое файла, игнорировать строки с нечётными индексами, а строки с чётными индексами должна увеличить на минимальное из чисел, содержащихся в этом файле. Полученные числа нужно записать в выходной файл с точностью 5 знаков после запятой.\n",
        "\n",
        "Требуется сделать не более двух проходов по входному файлу, расход памяти на протяжении работы должен быть O(1) (то есть никак не зависеть от числа строк во входном файле)."
      ]
    },
    {
      "cell_type": "code",
      "source": [
        "import math, os"
      ],
      "metadata": {
        "id": "MNW4Y_ia_F6T"
      },
      "execution_count": null,
      "outputs": []
    },
    {
      "cell_type": "code",
      "execution_count": null,
      "metadata": {
        "collapsed": true,
        "id": "VP0BUT890oSY",
        "jupyter": {
          "outputs_hidden": true
        }
      },
      "outputs": [],
      "source": [
        "def task_12_func(input_path, output_path):\n",
        "    min = math.inf\n",
        "    \n",
        "    input = open(input_path, \"r\")\n",
        "    for line in input.readlines():\n",
        "        i = float(line)\n",
        "        if i < min:\n",
        "            min = i\n",
        "              \n",
        "    outp = open(output_path, \"w\")    \n",
        "    input = open(input_path, \"r\")\n",
        "    for i, line in enumerate(input.readlines()):\n",
        "        j = float(line)\n",
        "        \n",
        "        if i % 2:\n",
        "            outp.write(f\"{j:.5f}\\n\")\n",
        "        else:\n",
        "            outp.write(f\"{j+min:.5f}\\n\")\n",
        "\n",
        "def write_to_file(filename, arr):\n",
        "    file = open(filename, \"w\")\n",
        "    file.write(\"\\n\".join([f\"{i:.5f}\" for i in arr]))\n",
        "\n",
        "\n"
      ]
    },
    {
      "cell_type": "code",
      "source": [
        "def test(file1, file2):\n",
        "    f1 = open(file1, \"r\")\n",
        "    f2 = open(file2, \"r\")\n",
        "    i = 0\n",
        "    for line1 in f1:\n",
        "      i += 1 \n",
        "      \n",
        "      for line2 in f2:\n",
        "         \n",
        "        if line1 == line2:\n",
        "      # print IDENTICAL if similar\n",
        "          return True\n",
        "        else : \n",
        "          if i%2 == 0:\n",
        "            return False \n",
        "          else: \n",
        "            pass\n",
        "      # else print that line from both files\n",
        "      #print ( \" File 1:\" , line1, end = '')\n",
        "      #print ( \" File 2:\" , line2, end = '')\n",
        "      \n",
        "\n",
        "        \n",
        "    #return True"
      ],
      "metadata": {
        "id": "Iq5lXmjge49I"
      },
      "execution_count": null,
      "outputs": []
    },
    {
      "cell_type": "code",
      "source": [
        "nums_1 = [2, -7, 5, -3, 9.89899, 4.567]\n",
        "ans_1 = [-5, -7, -2, -3, 2.89899, 4.567]\n",
        "write_to_file(\"nums_1.txt\", nums_1)\n",
        "write_to_file(\"ans_1.txt\", ans_1)\n",
        "task_12_func(\"nums_1.txt\", \"out_1.txt\")\n",
        "print(test(\"out_1.txt\", \"ans_1.txt\") == True)\n",
        "\n",
        "\n",
        "\n",
        "\n",
        "os.remove(\"nums_1.txt\")\n",
        "os.remove(\"ans_1.txt\")\n",
        "os.remove(\"out_1.txt\")"
      ],
      "metadata": {
        "id": "F9CvQPjmsb9m",
        "colab": {
          "base_uri": "https://localhost:8080/"
        },
        "outputId": "19ba80b5-412e-4e10-eaac-c493d610ca4f"
      },
      "execution_count": null,
      "outputs": [
        {
          "output_type": "stream",
          "name": "stdout",
          "text": [
            "True\n"
          ]
        }
      ]
    },
    {
      "cell_type": "markdown",
      "metadata": {
        "id": "x3rTp3nu0oSZ"
      },
      "source": [
        "__Задание 13 (1 балл):__ Написать функцию, которая принимает на вход число `n`, которое может быть либо натуральным, либо -1, и возвращает генератор чисел Фиббоначи. Если входной параметр равен натуральному числу, то генератор должен выдавать последовательно числа Фиббоначи до `n`-го. Если `n` равно -1, то генератор должен быть бесконечным."
      ]
    },
    {
      "cell_type": "markdown",
      "metadata": {
        "id": "9Mo1aM4wBAwA"
      },
      "source": [
        "Списковое включение (только для положительных n):"
      ]
    },
    {
      "cell_type": "code",
      "source": [
        "def task_13_func(n): \n",
        "  \n",
        "    fib1 = 0\n",
        "    fib2 = 1\n",
        "    \n",
        "    yield fib1\n",
        "    \n",
        "    if n != 0:\n",
        "        yield fib2\n",
        "    step = 2 \n",
        "\n",
        "    while step <= n and n != -1 :\n",
        "\n",
        "        step += 1\n",
        "        num, fib1 = fib1 + fib2, fib2 \n",
        "        fib2 = num \n",
        "\n",
        "        yield num"
      ],
      "metadata": {
        "id": "Tg8RjYdR_-3i"
      },
      "execution_count": null,
      "outputs": []
    },
    {
      "cell_type": "code",
      "source": [
        "# Test 'task_13_func'\n",
        "\n",
        "gen_0 = task_13_func(0)\n",
        "gen_1 = task_13_func(1) \n",
        "gen_3 = task_13_func(3) \n",
        "gen_5 = task_13_func(5)\n",
        "\n",
        "\n",
        "print(list(gen_0) == [0])\n",
        "print(list(gen_1) == [0, 1]) \n",
        "print(list(gen_3) == [0, 1, 1, 2]) \n",
        "print(list(gen_5) == [0, 1, 1, 2, 3, 5])\n"
      ],
      "metadata": {
        "colab": {
          "base_uri": "https://localhost:8080/"
        },
        "id": "i9HYOVTzD9lf",
        "outputId": "01252ff5-3fc7-40cf-b9ff-fdc1722a72ac"
      },
      "execution_count": null,
      "outputs": [
        {
          "output_type": "stream",
          "name": "stdout",
          "text": [
            "True\n",
            "True\n",
            "True\n",
            "True\n"
          ]
        }
      ]
    },
    {
      "cell_type": "markdown",
      "metadata": {
        "id": "7MBa66ZG0oSa"
      },
      "source": [
        "__Задание 14 (1 балл):__ Написать функцию, которая принимает на вход произвольный объект, проверяет его тип, и для целого числа возвращает список всех магических методов объекта, начинающихся с `__a`, для строк - с `__s`. Для всех прочих типов должен возвращаться список немагических методов. В задании запрещается использовать циклы и списковые включения/генераторы списков."
      ]
    },
    {
      "cell_type": "code",
      "execution_count": null,
      "metadata": {
        "id": "0xf7rq5f0oSb",
        "jupyter": {
          "outputs_hidden": true
        }
      },
      "outputs": [],
      "source": [
        "def task_14_func(n):\n",
        "    if isinstance(n, int):\n",
        "        return list(filter(lambda x: x.startswith('__a'), dir(n)))        \n",
        "    elif isinstance(n, str):\n",
        "        return list(filter(lambda x: x.startswith('__s'), dir(n)))\n",
        "    else:\n",
        "        return list(filter(lambda x: not x.startswith('__'), dir(n)))"
      ]
    },
    {
      "cell_type": "code",
      "execution_count": null,
      "metadata": {
        "id": "SQgajpN40oSb",
        "outputId": "e90a8d9b-d207-4493-ad1f-e84d290df18b"
      },
      "outputs": [
        {
          "name": "stdout",
          "output_type": "stream",
          "text": [
            "['__abs__', '__add__', '__and__']\n",
            "['__setattr__', '__sizeof__', '__str__', '__subclasshook__']\n",
            "['append', 'clear', 'copy', 'count', 'extend', 'index', 'insert', 'pop', 'remove', 'reverse', 'sort']\n"
          ]
        }
      ],
      "source": [
        "print(task_14_func(4))\n",
        "print(task_14_func('4'))\n",
        "print(task_14_func([4]))"
      ]
    },
    {
      "cell_type": "markdown",
      "metadata": {
        "id": "W5BVqMFV0oSc"
      },
      "source": [
        "__Задание 15 (1.5 балла):__ Написать функцию, которая во входной строке заменяет вхождения всех английских заглавных букв на их номер в таблице ASCII, затем производит сплит по минимальной из цифр строки. Предложите как минимум два различных решения, одно из которых не должно использовать циклы. При использовании циклов допускается не более двух проходов по строке."
      ]
    },
    {
      "cell_type": "code",
      "execution_count": null,
      "metadata": {
        "id": "FfwwJY2l0oSc"
      },
      "outputs": [],
      "source": [
        "def task_15_func(n):\n",
        "    for c in n:\n",
        "        if c.isalpha() and c.isupper():\n",
        "            n = n.replace(c, str(ord(c)))\n",
        "    min_d = 9\n",
        "    for c in n:\n",
        "        if c.isdigit() and int(c) < min_d:\n",
        "            min_d = int(c)\n",
        "    return n.split(str(min_d))"
      ]
    },
    {
      "cell_type": "code",
      "execution_count": null,
      "metadata": {
        "id": "XkDPEl_q0oSd",
        "outputId": "0522f967-ae3b-45ff-b42a-4d9dd16aaaa8"
      },
      "outputs": [
        {
          "data": {
            "text/plain": [
              "['76ondon is the capital of 7',\n",
              " 'reat 66ritain. 77ore than six million people live in 76ondon. 76ondon lies on both banks of the river 84hames. 73t is the largest city in 69urope and one of the largest cities in the world. 76ondon is not only the capital of the country, it isalso a very big port, one of the greatest commercial centres in the world, a universitycity, and the seat of the government of 7',\n",
              " 'reat 66ritain!']"
            ]
          },
          "execution_count": 6,
          "metadata": {},
          "output_type": "execute_result"
        }
      ],
      "source": [
        "s = 'London is the capital of Great Britain. More than six million people live in London. \\\n",
        "London lies on both banks of the river Thames. It is the largest city in Europe and one \\\n",
        "of the largest cities in the world. London is not only the capital of the country, it is\\\n",
        "also a very big port, one of the greatest commercial centres in the world, a university\\\n",
        "city, and the seat of the government of Great Britain!'\n",
        "task_15_func(s)"
      ]
    },
    {
      "cell_type": "markdown",
      "metadata": {
        "id": "BQkeruQp0oSk"
      },
      "source": [
        "__Задание 16 (1.5 балла):__ Написать функцию, которая принимает на вход строку и извлекает из неё мобильные телефонные номера с помощью регулярных выражений. Функция должна поддерживать общепринятые варианты написания номера, как со всевозможными разделителями, так и без них (обеспечьте поддержку не менее 10 различных случаев). Возвращаемым значением функции является список всех найденных в строке номеров, если их не было, нужно вернуть пустой список."
      ]
    },
    {
      "cell_type": "code",
      "execution_count": null,
      "metadata": {
        "id": "j2vx__zI0oSl"
      },
      "outputs": [],
      "source": [
        "import re \n",
        "def task_16_func(n):\n",
        "    return re.findall(r'\\+*[7-8]\\(*\\d{3}\\)*[\\s\\-]*\\d{3}[\\s\\-]*\\d{2}[\\s\\-]*\\d{2}', tel_numbers) + re.findall(r'\\+7\\(*\\d{3}\\)*[\\s\\-]*\\d{2}[\\s\\-]*\\d{2}[\\s\\-]*\\d{3}', tel_numbers) + re.findall(r\"\\+?([7-8][-( ]{0,2}?\\d{5}[-) ]{0,2}(\\d)[- ]?\\d{2}[- ]?\\d{2})\", tel_numbers)"
      ]
    },
    {
      "cell_type": "code",
      "execution_count": null,
      "metadata": {
        "id": "uUvsBYOC0oSl",
        "outputId": "a13147f0-61d0-4091-9f07-c98a289b1f93",
        "colab": {
          "base_uri": "https://localhost:8080/"
        }
      },
      "outputs": [
        {
          "output_type": "stream",
          "name": "stdout",
          "text": [
            "['+79998500782', '+7(999) 850 07 82', '+7(999) 850-07-82', '8(999)8500782', '89998500782', '8(999)8500782', '+79998500782', '+7(999) 85 00 782', '+7(999)85-00-782', ('79998500782', '0'), ('89998500782', '0')]\n"
          ]
        }
      ],
      "source": [
        "tel_numbers = '+79998500782, +7(999) 850 07 82, +7(999) 85 00 782, +7(999) 850-07-82, +7(999)85-00-782, 8(999)8500782,\\\n",
        "89998500782, 8-999-850-07-82,8 999 850 07 82, 8(999)8500782, 8 950 123 45 67'\n",
        "\n",
        "print(task_16_func(tel_numbers))\n"
      ]
    },
    {
      "cell_type": "markdown",
      "metadata": {
        "id": "VZKshuru0oSm"
      },
      "source": [
        "__Задание 17 (5 баллов):__ Опишем бинарное дерево, представленное в виде вложенных кортежей, в каждом узле дерева хранится вещественное число и ссылка на левое и правое поддерево.\n",
        "\n",
        "Пример: для сбалансированного дерева\n",
        "\n",
        "```\n",
        "        v_0\n",
        "       /   \\\n",
        "   v_11     v_12\n",
        "  /  \\       /  \\\n",
        "v_21 v_22  v_23 v_24\n",
        "```\n",
        "\n",
        "представление в виде кортежей будет выглядеть так:\n",
        "\n",
        "```\n",
        "(v_0,\n",
        "    (v_11,\n",
        "        (v_21, None, None),\n",
        "        (v_22, None, None)\n",
        "    ),\n",
        "    (v_12,\n",
        "        (v_23, None, None),\n",
        "        (v_24, None, None)\n",
        "    )\n",
        ")\n",
        "```\n",
        "\n",
        "Необходимо написать функцию, которая принимает на вход бинарное дерево (не обязательно сбалансированное), закодированное описанным способом в виде кортежа, производит его обход в глубину и для каждой листовой вершины вычисляет сумму всех значений от корня до неё включительно. Функция ничего не возвращает, вместо этого она выводит получаемые суммы в порядке следования листовых вершин (слева направо).\n",
        "\n",
        "Реализуйте два решения: на основе рекурсии и на основе циклов."
      ]
    },
    {
      "cell_type": "code",
      "source": [
        "def task_17_func(tree, lst=[]):\n",
        "    s = tree[0]\n",
        "    lst.append(s)\n",
        "    if tree[1] is not None:\n",
        "        task_17_func(tree[1], lst)\n",
        "        lst.pop()\n",
        "    if tree[2] is not None:\n",
        "        task_17_func(tree[2], lst)\n",
        "        lst.pop()\n",
        "    if tree[1] is None and tree[2] is None:\n",
        "        print(sum(lst), end=' ')\n",
        "    if len(lst) == 1:\n",
        "        lst.pop()\n",
        "        print('\\n')"
      ],
      "metadata": {
        "id": "8bfUURGVPECK"
      },
      "execution_count": null,
      "outputs": []
    },
    {
      "cell_type": "code",
      "execution_count": null,
      "metadata": {
        "id": "vMobxgct0oSn"
      },
      "outputs": [],
      "source": [
        "def task_17_func_2(tree, sum=0): \n",
        "\n",
        "    if tree is None:\n",
        "        return  \n",
        "          \n",
        "    val, left, right = tree\n",
        "    sum += val\n",
        "    print(sum, end=' ')\n",
        "    \n",
        "    task_17_func_2(left,  sum)\n",
        "    task_17_func_2(right, sum)"
      ]
    },
    {
      "cell_type": "code",
      "execution_count": null,
      "metadata": {
        "id": "TPdsFO0nAON-",
        "outputId": "5e3d51e1-e01d-4e03-8781-fac6a6273dea",
        "colab": {
          "base_uri": "https://localhost:8080/"
        }
      },
      "outputs": [
        {
          "output_type": "stream",
          "name": "stdout",
          "text": [
            "1 3 6 7 6 12 13 3 \n",
            "\n",
            "10 \n",
            "\n",
            "2 3 \n",
            "\n",
            "32 33 35 36 \n",
            "\n",
            "32 33 35 36 \n",
            "\n"
          ]
        }
      ],
      "source": [
        "tree1 = (1, (2, (3, None, None), (4, None, None)), (5, (6, None, None), (7, None, None)))\n",
        "tree2 = (1, (2, None, None), None)\n",
        "tree3 = (1, None, (2, (3, None, (4, None, None)), None))\n",
        "tree4 = (1, (0, (0, (1, None, None), None), None), (0, None, (0, None, (2, None, None))))\n",
        "tree5 = (0,\n",
        "    (11,\n",
        "        (21, None, None),\n",
        "        (22, None, None)\n",
        "    ),\n",
        "    (12,\n",
        "        (23, None, None),\n",
        "        (24, None, None)\n",
        "    )\n",
        ")\n",
        " \n",
        "task_17_func_2(tree1)\n",
        "task_17_func(tree2)\n",
        "task_17_func(tree3)\n",
        "task_17_func(tree4)\n",
        "task_17_func(tree5)\n",
        "task_17_func(tree5)"
      ]
    },
    {
      "cell_type": "code",
      "execution_count": null,
      "metadata": {
        "id": "Hl8DYy5WAON_"
      },
      "outputs": [],
      "source": []
    }
  ],
  "metadata": {
    "colab": {
      "provenance": [],
      "collapsed_sections": []
    },
    "kernelspec": {
      "display_name": "Python 3",
      "language": "python",
      "name": "python3"
    },
    "language_info": {
      "codemirror_mode": {
        "name": "ipython",
        "version": 3
      },
      "file_extension": ".py",
      "mimetype": "text/x-python",
      "name": "python",
      "nbconvert_exporter": "python",
      "pygments_lexer": "ipython3",
      "version": "3.7.4"
    }
  },
  "nbformat": 4,
  "nbformat_minor": 0
}