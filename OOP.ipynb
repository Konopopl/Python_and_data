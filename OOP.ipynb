{
  "cells": [
    {
      "cell_type": "markdown",
      "metadata": {
        "id": "FXUdJLanEw4n"
      },
      "source": [
        "#### Постановка задачи:\n",
        "\n",
        "- В данной работе нужно\n",
        "    - ответить на ряд теоретических вопросов;\n",
        "    - решить набор задач, проверяющих владение ООП-инструментами языка;\n",
        "    - решить задачу на проектирование кода.\n",
        "- Ответы на теоретические вопросы должны быть полными и обоснованными.\n",
        "- Каждая задача представляет собой написание функции или класса, а также набора тестов, проверяющих работу решения в общих и крайних случаях.\n",
        "- Отсутствие тестов автоматически уменьшает количество баллов за задание как минимум в два раза, некачественные тесты также будут штрафоваться.\n",
        "- Даже если это не указано явно в требованиях, код должен быть по возможности неизбыточным, работать с разумной сложностью и объёмом потребялемой памяти, проверяющие могут снизить балл за задание, выполненное без учёта этого требования.\n",
        "- Результирующий код должен быть читаемым, с единой системой отступов и адеквантными названиями переменных, проверяющие могут снизить балл за задание, выполненное без учёта этого требования."
      ]
    },
    {
      "cell_type": "markdown",
      "metadata": {
        "id": "0y9SDlXzEw4s"
      },
      "source": [
        "__Задание 1 (2 балла):__ Дайте подробные ответы на следующие вопросы:\n",
        "\n",
        "1. В чём смысл инкапсуляции? Приведите пример конкретной ситуации в коде, в которой нарушение инкапсуляции приводит к проблемам.\n",
        "2. Какой метод называется статическим? Что такое параметр `self`?\n",
        "3. В чём отличия методов `__new__` и `__init__`?\n",
        "4. Какие виды отношений классов вы знаете? Для каждого приведите примеры. Укажите взаимные различия.\n",
        "5. Зачем нужны фабрики? Опишите смысл использования фабричного метода, фабрики и абстрактной фабрики, а также их взаимные отличия."
      ]
    },
    {
      "cell_type": "markdown",
      "source": [
        "$1)$  Инкапсуляция - это сокрытие данных. Это механизм, который объединяет данные и код, манипулирующий этими данными, а также защищает и то, и другое от внешнего вмешательства или неправильного использования.  \n",
        "\n",
        "$2)$ Статический метод– это метод, который не имеет доступа к полям объекта, и для вызова такого метода не нужно создавать экземпляр (объект) класса, в котором он объявлен. self - ссылка на объект класса  \n",
        "\n",
        "$3)$  __new__ используется для создания объектов, а  __init__ для инициализации объектов.  \n",
        "\n",
        "$4)$ Композиция это создание нового класса на основе старого, с сохранением атрибутов. Каждый представитьель дочернего класса есть представитель родительского класса, но не наоборот.  \n",
        "Ассоциация - это  класс включает в себя другой как поле.\n",
        "Ассоциация бывает двух видов - композиция и агрегация. В композиции  при создании главного класса создаётся подчиняемый класс, в агрегации подчиняемый класс создаётся в другом месте. \n",
        "\n",
        "\n",
        "$5)$ \n",
        "Данный паттерн необходим для создания процесса конструкции  объектов.\n",
        "1) Простая фабрика\n",
        "Метод-обёртка над вызовом конструктора класса.\n",
        "2) Фабричный метод\n",
        "Определяет интерфейс для создания объектов, при этом позволяя подклассам решать, какой класс создавать.\n",
        "3) Абстрактная фабрика\n",
        "предоставляет интерфейс для создания семейств связанных или зависимых объектов без указания их конкретных классов.\n"
      ],
      "metadata": {
        "id": "JmNw1E0CFGpB"
      }
    },
    {
      "cell_type": "markdown",
      "source": [],
      "metadata": {
        "id": "I5EuiDt3E9cK"
      }
    },
    {
      "cell_type": "code",
      "source": [],
      "metadata": {
        "id": "EJ2U7aqoE81N"
      },
      "execution_count": null,
      "outputs": []
    },
    {
      "cell_type": "markdown",
      "metadata": {
        "id": "qkwGRpoJEw4u"
      },
      "source": [
        "__Задание 2 (1 балл):__ Опишите класс комплексных чисел. У пользователя должна быть возможность создать его объект на основе числа и в алгебраической форме, и в полярной. Класс должен поддерживать основные математические операции (+, -, \\*, /) за счет перегрузки соответствующих магических методов. Также он должен поддерживать возможность получить число в алгебраической и полярной форме. Допускается использование модуля `math`."
      ]
    },
    {
      "cell_type": "code",
      "execution_count": null,
      "metadata": {
        "id": "UHDmVVnyEw4w"
      },
      "outputs": [],
      "source": [
        "import math \n",
        "\n",
        "class ComplexNumber:  \n",
        "    real, imaginary = 0,0  \n",
        "\n",
        "    def __init__(self, real, imaginary): \n",
        "        self.real = real\n",
        "        self.imaginary = imaginary\n",
        "\n",
        "    def __add__(self, a):     \n",
        "        return ComplexNumber(self.real + a.real, self.imaginary + a.imaginary)\n",
        "\n",
        "    def __sub__(self, a):\n",
        "        return ComplexNumber(self.real - a.real, self.imaginary - a.imaginary)\n",
        "\n",
        "    def __mul__(self, a):\n",
        "        return ComplexNumber(self.real * a.real - self.imaginary * a.imaginary, self.real * a.imaginary + a.real * self.imaginary)\n",
        "\n",
        "    def __truediv__(self, a):\n",
        "      denominator = a.real**2 + a.imaginary**2   \n",
        "      \n",
        "      if( denominator == 0.): raise ValueError(\"на 0 делить нельзя\")\n",
        "\n",
        "      return ComplexNumber((self.real*a.real + self.imaginary*a.imaginary) / denominator, (self.imaginary*a.real - self.real*a.imaginary) / denominator)\n",
        "\n",
        "    def mod(self):\n",
        "        return ComplexNumber(math.sqrt(self.real**2 + self.imaginary**2), 0)\n",
        "\n",
        "    def __str__(self):\n",
        "        return str(self.real) + \"+\" + str(self.imaginary) + \"i\"  \n",
        "\n",
        "    def __abs__(self): \n",
        "      return (self.imaginary**2 + self.real**2)**0.5 \n",
        "\n",
        "    def faza(self): \n",
        "      return math.acos(self.real/abs(x)) "
      ]
    },
    {
      "cell_type": "code",
      "execution_count": null,
      "metadata": {
        "colab": {
          "base_uri": "https://localhost:8080/"
        },
        "id": "u3WVoMjs-Eii",
        "outputId": "38198e9b-685a-4986-d1e1-288551969bc5"
      },
      "outputs": [
        {
          "data": {
            "text/plain": [
              "3.0"
            ]
          },
          "execution_count": 3,
          "metadata": {},
          "output_type": "execute_result"
        }
      ],
      "source": [
        "x = ComplexNumber(0,3)  \n",
        "y = ComplexNumber(0,5)  \n",
        "abs(x)"
      ]
    },
    {
      "cell_type": "markdown",
      "metadata": {
        "id": "TXm4j2iAEw4x"
      },
      "source": [
        "__Задание 3 (2 балла):__ Опишите класс для векторов в N-мерном пространстве. В качестве основы  используйте список значений координат вектора, задаваемый `list`. Обеспечьте поддержку следующих операций: сложение, вычитание (с созданием нового вектора-результата), скалярное произведение, косинус угла, евклидова норма. Все операции, которые можно перегрузить с помощью магических методов, должны быть реализованы именно через них. Класс должен производить проверку консистентности аргументов для каждой операции и в случаях ошибок выбрасывать исключение `ValueError` с исчерпывающим объяснением ошибки."
      ]
    },
    {
      "cell_type": "code",
      "execution_count": null,
      "metadata": {
        "id": "shq1ZNUVEw4x"
      },
      "outputs": [],
      "source": [
        "class Vector():\n",
        "    def __init__(self, *vector_values_list):\n",
        "        if len(vector_values_list) == 1 and type(vector_values_list[0]) == list:\n",
        "            self.vector = vector_values_list[0]\n",
        "        else:\n",
        "          self.vector = [i for i in vector_values_list] \n",
        "\n",
        "    def __repr__(self):\n",
        "        return \"Vector\"\n",
        "\n",
        "    def __str__(self):\n",
        "                return self.vector.__str__()\n",
        "\n",
        "    def v_i(self,i):\n",
        "        return self.vector[i]\n",
        "\n",
        "    def __len__(self):\n",
        "        return self.vector.__len__()\n",
        "\n",
        "    def __add__(self, a): \n",
        "        if(repr(a) != \"Vector\"):  raise TypeError(\"объект не является вектором\") \n",
        "           \n",
        "        if( len(self) != len(a)): raise ValueError(\"Не совпадают длины векторов\")\n",
        "        \n",
        "        return Vector([self.v_i(i) + a.vector[i] for i in range(len(self))])\n",
        "\n",
        "    def __sub__(self, a):\n",
        "        \n",
        "        if(repr(a) != \"Vector\"): raise TypeError(\"объект не является вектором \")  \n",
        "\n",
        "        if(len(self) == len(a)): \n",
        "          return Vector([self.v_i(i) - a.vector[i] for i in range(len(self))])\n",
        "        else:\n",
        "          raise ValueError(\"Не совпадают длины векторов\")\n",
        "       \n",
        "\n",
        "\n",
        "    def __mul__(self, b):\n",
        "        if(repr(b) == \"Vector\"):\n",
        "            if(len(self) == len(b)):\n",
        "                return sum([self.vector[i]*b.vector[i] for i in range(len(self))])\n",
        "        if(repr(b)== float, int):\n",
        "            return Vector([self.vector[i]*b for i in range(len(self.vector))])\n",
        "\n",
        "   \n",
        "    def __eq__(self, a): \n",
        "        \n",
        "      if(repr(a) == \"Vector\"): \n",
        "        if( len(self) == len(a)):       \n",
        "          x = True\n",
        "          for i in range(len(self)): \n",
        "            x = x and (self.v_i(i) == a.v_i(i)) \n",
        "          return x \n",
        "        else: \n",
        "          raise ValueError(\"Не совпадают длины векторов\")  \n",
        "      else: \n",
        "        raise TypeError(\"объект другого типа\")    \n",
        "       \n",
        "    def __abs__(self):  \n",
        "      return( (sum(list(map(lambda x: x**2, [self.v_i(i) for i in range(len(self)) ]))))**0.5)  \n",
        "\n",
        "    def cos(self, a):   \n",
        "      if(repr(a) != \"Vector\"):  \n",
        "        raise TypeError(\"объект не является вектором\")  \n",
        "      if( len(self) != len(a)): \n",
        "        raise ValueError(\"Не совпадают длины векторов\") \n",
        "       \n",
        "      if(abs(a) == 0.): raise ValueError(\"на 0 делить нельзя\")\n",
        "\n",
        "      return( self*a/(abs(self)*abs(a)) )\n"
      ]
    },
    {
      "cell_type": "code",
      "execution_count": null,
      "metadata": {
        "colab": {
          "base_uri": "https://localhost:8080/"
        },
        "id": "LYOArD_zICfw",
        "outputId": "5e0a6bab-da1f-4fbf-bd27-cbab70b9e69d"
      },
      "outputs": [
        {
          "data": {
            "text/plain": [
              "0.2182178902359924"
            ]
          },
          "execution_count": 125,
          "metadata": {},
          "output_type": "execute_result"
        }
      ],
      "source": [
        "v = Vector([1,0,0])\n",
        "w = Vector([1,2,4])  \n",
        "str(v) \n",
        "v.cos(w)"
      ]
    },
    {
      "cell_type": "markdown",
      "metadata": {
        "id": "X-Q0xrzVEw4y"
      },
      "source": [
        "__Задание 4 (2 балл):__ Опишите декоратор, который принимает на вход функцию и при каждом её вызове печатает строку \"This function was called N times\", где N - число раз, которое это функция была вызвана на текущий момент (пока функция существует как объект, это число, очевидно, может только неубывать)."
      ]
    },
    {
      "cell_type": "code",
      "execution_count": null,
      "metadata": {
        "id": "SevcexzKEw4y"
      },
      "outputs": [],
      "source": [
        "def calls_counter(func):\n",
        "    pass"
      ]
    },
    {
      "cell_type": "code",
      "execution_count": null,
      "metadata": {
        "id": "wkDDnIqlya1Q"
      },
      "outputs": [],
      "source": [
        "import functools\n",
        "def calls_counter( ):     \n",
        "    def decor1(func):        \n",
        "        decor1.N = 0\n",
        "        @functools.wraps(func)\n",
        "        def decor2(*args, **kwargs):\n",
        "          decor1.N += 1  \n",
        "          print(\"This function was called \" + str(decor1.N) + \" times\")\n",
        "          return func(*args, **kwargs)\n",
        "        return decor2\n",
        "    return decor1"
      ]
    },
    {
      "cell_type": "code",
      "execution_count": null,
      "metadata": {
        "colab": {
          "base_uri": "https://localhost:8080/"
        },
        "id": "nr6blb2aFvrr",
        "outputId": "0853bb72-fab9-4da0-90a8-d715282344f3"
      },
      "outputs": [
        {
          "name": "stdout",
          "output_type": "stream",
          "text": [
            "This function was called 1 times\n",
            "This function was called 2 times\n",
            "This function was called 3 times\n"
          ]
        },
        {
          "data": {
            "text/plain": [
              "35"
            ]
          },
          "execution_count": 74,
          "metadata": {},
          "output_type": "execute_result"
        }
      ],
      "source": [
        "@calls_counter()\n",
        "def f(x , y=1):\n",
        "    return x * y  \n",
        " \n",
        "f(1, y=2)\n",
        "f(2,3)\n",
        "f(y=5, x=7)"
      ]
    },
    {
      "cell_type": "markdown",
      "metadata": {
        "id": "qU7W6wyYEw4z"
      },
      "source": [
        "__Задание 5 (3 балла):__ Опишите декоратор класса, который принимает на вход другой класс и снабжает декорируемый класс всеми атрибутами входного класса, названия которых НЕ начинаются с \"\\_\". В случае конфликтов имён импортируемый атрибут должен получить имя с суффиксом \"\\_new\"."
      ]
    },
    {
      "cell_type": "code",
      "execution_count": null,
      "metadata": {
        "id": "qZ9616llEw4z"
      },
      "outputs": [],
      "source": [
        "def copy_class_attrs(cls_giver):\n",
        "    def __copy_class_attrs(upd):\n",
        "        for att in dir(cls_giver):\n",
        "            if att.startswith('_'):\n",
        "                continue\n",
        "            \n",
        "            new_attr = att\n",
        "            if hasattr(upd, att):\n",
        "                new_attr += '_new'\n",
        "            \n",
        "            setattr(upd, new_attr, getattr(cls_giver, att))\n",
        "            \n",
        "        return upd\n",
        "    \n",
        "    return __copy_class_attrs"
      ]
    },
    {
      "cell_type": "code",
      "source": [
        "class Class1:\n",
        "    id = '111'\n",
        "    time = '148'\n",
        "    type_client = \"owner\"\n",
        "    \n",
        "    def __init__(self, id, time, type_client):\n",
        "        self.id = id\n",
        "        self.time = time\n",
        "        self.type_client = type_client  \n",
        "\n",
        "    def bar(self): \n",
        "        return id + ' ' + time\n",
        "       \n",
        "    def foo(self):\n",
        "        print(type_client)\n",
        "    \n",
        "\n",
        "@copy_class_attrs(Class1)\n",
        "class Class2:\n",
        "    id = '987987'\n",
        "    time = '176'\n",
        "    sratus = \"free\"\n",
        "    \n",
        "    def __init__(self, id, time, status):\n",
        "        self.id = id\n",
        "        self.time = time\n",
        "        self.status = rieltor\n",
        "        \n",
        "    def foo(self):\n",
        "        print(status)\n",
        "    \n",
        "    def other_bar(self):\n",
        "       pass  \n",
        "\n",
        "def f(attr): \n",
        "  return not attr.startswith('_')\n",
        "    \n",
        "arr1 = list(filter(f, dir(Class2)))\n",
        "arr2 = ['id', 'time', 'type_client', 'foo', 'other_bar']\n",
        "\n",
        "\n",
        "print([attr in arr1 for attr in arr2])"
      ],
      "metadata": {
        "colab": {
          "base_uri": "https://localhost:8080/"
        },
        "id": "fb6o7tjpN13K",
        "outputId": "81cfb5f3-66ea-49d7-91a3-fe2d2bd0e117"
      },
      "execution_count": null,
      "outputs": [
        {
          "output_type": "stream",
          "name": "stdout",
          "text": [
            "[True, True, True, True, True]\n"
          ]
        }
      ]
    },
    {
      "cell_type": "markdown",
      "metadata": {
        "id": "VAxHQNk3Ew40"
      },
      "source": [
        "__Задание 6 (5 баллов):__ Опишите класс для хранения двумерных числовых матриц на основе списков. Реализуйте поддержку индексирования, итерирования по столбцам и строкам, по-элементные математические операции (с помощью магических методов), операцию умножения матрицы (как метод `dot` класса), транспонирование, поиска следа матрицы, а также поиск значения её определителя, если он существует, в противном случае соответствующий метод должен выводить сообщение об ошибке и возвращать `None`.\n",
        "\n",
        "Матрицу должно быть возможным создать из списка (в этом случае у неё будет одна строка), списка списков, или же передав явно три числа: число строк, число столбцов и значение по-умолчанию (которое можно не задавать, в этом случае оно принимается равным нулю). Все операции должны проверять корректность входных данных и выбрасывать исключение с информативным сообщением в случае ошибки.\n",
        "\n",
        "Матрица должна поддерживать методы сохранения на диск в текстовом и бинарном файле и методы обратной загрузки с диска для обоих вариантов. Также она должна поддерживать метод полного копирования. Обе процедуры должны быть реализованы с помощью шаблона \"примесь\" (Mixin), т.е. указанные функциональности должны быть описаны в специализированных классах.\n",
        "\n",
        "В реализации математических операций запрещается пользоваться любыми функциями, требующими использования оператора `import`."
      ]
    },
    {
      "cell_type": "code",
      "execution_count": null,
      "metadata": {
        "id": "EBRduGelEw40"
      },
      "outputs": [],
      "source": [
        "class Matrix:\n",
        "    pass"
      ]
    },
    {
      "cell_type": "code",
      "execution_count": null,
      "metadata": {
        "id": "Bh2CImTgI1hd"
      },
      "outputs": [],
      "source": [
        "class Matrix:   \n",
        "  def __init__(self, *args, n =0, m=0, b = \"list_list\", trans = \"\"): \n",
        "        \n",
        "        if b == \"list_list\": \n",
        "\n",
        "          if len(args) == 1:\n",
        "              if isinstance(args[0], Matrix):\n",
        "                  self.matrix = args[0].matrix\n",
        "\n",
        "                  self.rows = len(self.matrix)\n",
        "                  self.cols = len(self.matrix[0])\n",
        "\n",
        "              elif isinstance(args[0], list):\n",
        "                  self.rows = len(args[0])\n",
        "                  self.cols = len(args[0][0])\n",
        "\n",
        "                  if all(map(lambda x: len(x) == self.cols, args[0])):\n",
        "                      self.matrix = args[0]\n",
        "                  else:  \n",
        "                      print(\"объект не является матрицей\")\n",
        "                      return None\n",
        "\n",
        "              else: \n",
        "                  print(\"некорректный объект\")\n",
        "                  \n",
        "\n",
        "          elif (len(args) == 2):\n",
        "              if isinstance(args[0], int) and isinstance(args[1], int):\n",
        "                  self.rows = args[0]\n",
        "                  self.cols = args[1]\n",
        "                  self.matrix = [[0] * args[1] for row in range(args[0])]\n",
        "\n",
        "              else: \n",
        "                  print(\"некорректный объект\")\n",
        "                  return None\n",
        "\n",
        "          else:\n",
        "              print(\"некорректный объект\")\n",
        "              return None   \n",
        "\n",
        "        elif   b == \"param\":  \n",
        "          self.matrix = self.get_matrix(n, m)  \n",
        "          self.rows = len(self.matrix)\n",
        "          self.cols = len(self.matrix[0])\n",
        "       \n",
        "        elif b == \"vector\": \n",
        "          self.matrix = [i for i in args][0]  \n",
        "          self.rows = 0\n",
        "          self.cols = 1 \n",
        "          self.trans = trans\n",
        "  \n",
        "\n",
        "  def get_matrix(self, n, m):\n",
        "      num = 1\n",
        "      matrix = [[None for j in range(m)] for i in range(n)]\n",
        "      for i in range(len(matrix)):\n",
        "          for j in range(len(matrix[i])):\n",
        "             matrix[i][j] = num\n",
        "             num += 1\n",
        "      return matrix\n",
        "  \n",
        "  def size(self):  \n",
        "    if self.rows == 0: \n",
        "      return list(self).__len__()\n",
        "    rows = len(self.matrix) \n",
        "    cols = 0\n",
        "    for row in self.matrix:\n",
        "      if len(row) > cols:\n",
        "        cols = len(row)\n",
        "    return  (rows, cols)\n",
        "\n",
        "  @classmethod\n",
        "  def identity(cls, size):\n",
        "      new_matrix = cls(size, size)\n",
        "\n",
        "      for i in range(size):\n",
        "          new_matrix[i][i] = 1\n",
        "      return new_matrix\n",
        "\n",
        "  def __str__(self): \n",
        "      if self.rows == 0: \n",
        "        return str(self.matrix) + str(self.trans)     \n",
        "      return str(self.matrix)\n",
        "\n",
        "  def __getitem__(self, key):\n",
        "      return self.matrix[key] \n",
        "\n",
        "  \n",
        "\n",
        "  def __eq__(self, other):\n",
        "      if isinstance(other, Matrix):\n",
        "          if self.rows != other.rows: \n",
        "            if self.trans != other.trans:\n",
        "              return False        \n",
        "          return all(map(lambda rows: rows[0] == rows[1], zip(self.matrix, other.matrix)))\n",
        "      else:\n",
        "          return False\n",
        "\n",
        "  def __ne__(self, other):\n",
        "      return not self.__eq__(other)  \n",
        "\n",
        "  def __pos__(self):\n",
        "      return self\n",
        "\n",
        "  def __neg__(self):\n",
        "      return -1 * self\n",
        "\n",
        "  def __add__(self, other): \n",
        "      if self.rows == 0:  \n",
        "        print((self.trans,other.trans))\n",
        "        if self.trans != other.trans:  \n",
        "           print(\"Не совпадают размерности\")\n",
        "           return None\n",
        "\n",
        "        if self.size() != other.size(): \n",
        "           print(\"Не совпадают длины векторов\") \n",
        "           return None  \n",
        "        return Matrix([self[i] + other[i] for i in range(self.size()) ], b =\"vector\")    \n",
        "         \n",
        "      new_matrix = Matrix(self.rows, self.cols)\n",
        "\n",
        "      if isinstance(other, Matrix):\n",
        "          if (self.rows == other.rows) and (self.cols == other.cols):\n",
        "              for row in range(self.rows):\n",
        "                  for column in range(self.cols):\n",
        "                      new_matrix[row][column] = self[row][column] + other[row][column]\n",
        "          else:\n",
        "              print(\"Can't add or subtract %d x %d matrix with %d x %d matrix\" % (self.rows, self.cols, other.rows, other.cols)) \n",
        "              return None\n",
        "      else:\n",
        "          return NotImplemented\n",
        "\n",
        "      return new_matrix\n",
        "\n",
        "  def __sub__(self, other):\n",
        "      return self + (other * -1)\n",
        "\n",
        "  def __mul__(self, other):\n",
        "      if isinstance(other, (int, float, complex)): \n",
        "          \n",
        "          if self.rows == 0: \n",
        "            return Matrix([self[i] * other for i in range(self.size()) ], b =\"vector\")\n",
        "           \n",
        "          new_matrix = Matrix(self.rows, self.cols)\n",
        "\n",
        "          for row in range(self.rows):\n",
        "              for col in range(self.cols):\n",
        "                  new_matrix[row][col] = self[row][col] * other\n",
        "\n",
        "      elif isinstance(other, Matrix):  \n",
        "\n",
        "          if self.rows == 0: \n",
        "            if self.size() != other.size():  \n",
        "              print(\"Не совпадают длины векторов\") \n",
        "              return None \n",
        "\n",
        "            if self.trans == other.trans:   \n",
        "              return sum([self[i] * other[i] for i in range(self.size())])  \n",
        "            else: \n",
        "              new_matrix = Matrix(self.size(), self.size()) \n",
        "              for i in range(self.size()): \n",
        "                for j in  range(self.size()): \n",
        "                  new_matrix[i][j] = self[i]*other[j]  \n",
        "              return new_matrix \n",
        "                    \n",
        "          if self.cols == other.rows:\n",
        "              new_matrix = Matrix(self.rows, other.cols)\n",
        "\n",
        "              for row in range(self.rows):\n",
        "                  for col in range(other.transpose().rows):\n",
        "                      value = 0\n",
        "                      for i in range(self.cols):\n",
        "                          value += self[row][i] * other[i][col]\n",
        "\n",
        "                      new_matrix[row][col] = value\n",
        "\n",
        "          else:\n",
        "              print(\"(%d, %d)  (%d, %d) \" % (self.rows, self.cols, other.rows, other.cols)) \n",
        "              return None\n",
        "\n",
        "      else:\n",
        "          return NotImplemented\n",
        "\n",
        "      return new_matrix\n",
        "\n",
        "  def __rmul__(self, other):\n",
        "      return self.__mul__(other)\n",
        "\n",
        "  def transpose(self): \n",
        "      if self.rows == 0: \n",
        "        if self.trans == \"\": return Matrix(list(self), b =\"vector\", trans = \"T\") \n",
        "        if self.trans == \"T\": return Matrix(list(self), b =\"vector\", trans = \"\") \n",
        "       \n",
        "      new_matrix = Matrix(self.cols, self.rows)\n",
        "\n",
        "      for row in range(self.rows):\n",
        "          for col in range(self.cols):\n",
        "              new_matrix[col][row] = self[row][col]\n",
        "      return new_matrix \n",
        "\n",
        "  def stolb(self, rows):\n",
        "      return self.transpose()[rows]\n",
        "  \n",
        "  def is_square(self):\n",
        "      return self.rows == self.cols\n",
        "\n",
        "  def minor_matrix(self, remove_row, remove_col):\n",
        "      new_matrix_array = [row[:remove_col] + row[remove_col + 1:] for row in (self[:remove_row] + self[remove_row + 1:])]\n",
        "      return Matrix(new_matrix_array) \n",
        "\n",
        "  def trace(self):  \n",
        "      if self.is_square():  \n",
        "        print(\"матрица не квадратна, trace для нее неопределен\") \n",
        "        return None\n",
        "      return sum([self[i][i] for i in range(len(self[0]))]) \n",
        "\n",
        "  def determinant(self):\n",
        "    if self.is_square():\n",
        "        if self.rows == 2:\n",
        "            return self[0][0] * self[1][1] - self[0][1] * self[1][0]\n",
        "\n",
        "        determinant = 0\n",
        "        for col in range(self.cols):\n",
        "            determinant += ((-1) ** col) * self[0][col] * self.minor_matrix(0, col).determinant()\n",
        "\n",
        "        return determinant\n",
        "    else:\n",
        "        print(\"Детерминанта не существует, так как матрица не диагональна\") \n",
        "        return None"
      ]
    },
    {
      "cell_type": "code",
      "execution_count": null,
      "metadata": {
        "colab": {
          "base_uri": "https://localhost:8080/"
        },
        "id": "e5f6Z4kxclDm",
        "outputId": "de575973-e579-464d-e50d-3540d63722f3"
      },
      "outputs": [
        {
          "output_type": "stream",
          "name": "stdout",
          "text": [
            "3\n",
            "0\n",
            "False\n",
            "('', '')\n",
            "[1, 0, 2]\n",
            "[-1, 0, -1]\n",
            "1\n",
            "[0, 0, 1]\n",
            "('', 'T')\n",
            "Не совпадают размерности\n",
            "None\n",
            "[[0, 0, 0], [0, 0, 0], [0, 0, 1]]\n"
          ]
        },
        {
          "output_type": "execute_result",
          "data": {
            "text/plain": [
              "3"
            ]
          },
          "metadata": {},
          "execution_count": 2
        }
      ],
      "source": [
        " \n",
        "v = Matrix([0,0,1], b =\"vector\")   \n",
        "print(v.size()) \n",
        "w = Matrix([1,0,1], b =\"vector\")\n",
        "print(v[0]) \n",
        "print(v == w)  \n",
        "print(w+v)\n",
        "print(-w) \n",
        "print(v*w) \n",
        "print(v.transpose().transpose())   \n",
        "\n",
        "print(v + v.transpose())  \n",
        "\n",
        "print(v*v.transpose())\n",
        "v.transpose().size()"
      ]
    },
    {
      "cell_type": "markdown",
      "metadata": {
        "id": "gsVk4ZIwEw41"
      },
      "source": [
        "__Задание 7 (5 баллов):__ Ставится задача расчета стоимости чашки кофе. Опишите классы нескольких типов кофе (латте, капучино, американо), а также классы добавок к кофе (сахар, сливки, кардамон, пенка, сироп). Используйте шаблон \"декоратор\". Каждый класс должен характеризоваться методом вычисления стоимости чашки `calculate_cost`. Пользователь должен иметь возможность комбинировать любое число добавок с выбранным кофе и получить на выходе общую стоимость:\n",
        "\n",
        "```\n",
        "Cream(Sugar(Latte())).calculate_cost()\n",
        "```\n",
        "\n",
        "Первым элементом чашки всегда должен быть сам кофе, а не добавка, в противном случае при попытке создания чашки должно выбрасываться исключение:\n",
        "\n",
        "```\n",
        "Cream(Latte(Sugar())).calculate_cost() -> exception\n",
        "```\n",
        "\n",
        "Кофе может встречаться в чашке только один раз, в противном случае при попытке создания чашки должно выбрасываться исключение:\n",
        "\n",
        "```\n",
        "Cappuccino(Sugar(Latte())).calculate_cost() -> exception\n",
        "```\n",
        "\n",
        "Добавки могут включаться в чашку в любом количестве и порядке.\n",
        "Добавление новых типов кофе и добавок не должно требовать изменения существующего кода."
      ]
    },
    {
      "cell_type": "code",
      "execution_count": null,
      "metadata": {
        "id": "zKWxIUMwcQ6e"
      },
      "outputs": [],
      "source": [
        "cappucino = 200\n",
        "americano = 300\n",
        "latte = 250\n",
        "\n",
        "sugar = 50\n",
        "cream = 70\n"
      ]
    },
    {
      "cell_type": "code",
      "source": [
        "class Coffee:\n",
        "    def cost(self): pass \n",
        "\n",
        "# Main drinks\n",
        "class Latte(Coffee):\n",
        "    def cost(self): \n",
        "        return latte\n",
        "    \n",
        "class Cappuccino(Coffee):\n",
        "    def cost(self): \n",
        "        return cappucino\n",
        "    \n",
        "class Americano(Coffee):\n",
        "    def cost(self): \n",
        "        return americano\n",
        "\n",
        "class Sugar(Coffee):\n",
        "    def __init__(self, coffee):\n",
        "        self.coffee = coffee\n",
        "        \n",
        "    def cost(self):\n",
        "        return sugar + self.coffee.calculate_cost()\n",
        "    \n",
        "class Cream(Coffee):\n",
        "    def __init__(self, coffee):\n",
        "        self.coffee = coffee\n",
        "        \n",
        "    def calculate_cost(self):\n",
        "        return cream + self.coffee.calculate_cost()\n",
        "    \n",
        "class Cardamom(Coffee):\n",
        "    def __init__(self, coffee):\n",
        "        self.coffee = coffee \n",
        "\n",
        "class Foam(Coffee):\n",
        "    def __init__(self, coffee):\n",
        "        self.coffee = coffee\n",
        "\n",
        "class Syrup(Coffee):\n",
        "    def __init__(self, coffee):\n",
        "        self.coffee = coffee\n",
        "        \n"
      ],
      "metadata": {
        "id": "05x6Lxu1XK_v"
      },
      "execution_count": null,
      "outputs": []
    },
    {
      "cell_type": "code",
      "source": [
        "print(Latte().cost() == latte)\n",
        "print(Cappuccino().cost() == cappucino)\n",
        "\n",
        "\n",
        "try:\n",
        "    print(Sugar(Syrup()).cost())\n",
        "except TypeError:\n",
        "    print(\"OK\") \n",
        "\n",
        "try:\n",
        "    print(Latte(Sugar(Cappuccino())).cost())\n",
        "except TypeError:\n",
        "    print(\"OK\")"
      ],
      "metadata": {
        "colab": {
          "base_uri": "https://localhost:8080/"
        },
        "id": "6Cs4nastXNQ3",
        "outputId": "ca33b022-7f8e-43cc-f929-774141cebd00"
      },
      "execution_count": null,
      "outputs": [
        {
          "output_type": "stream",
          "name": "stdout",
          "text": [
            "True\n",
            "True\n",
            "OK\n",
            "OK\n"
          ]
        }
      ]
    },
    {
      "cell_type": "code",
      "source": [],
      "metadata": {
        "id": "Qvyc9KmRXO8w"
      },
      "execution_count": null,
      "outputs": []
    }
  ],
  "metadata": {
    "colab": {
      "provenance": [],
      "collapsed_sections": []
    },
    "kernelspec": {
      "display_name": "Python 3",
      "language": "python",
      "name": "python3"
    },
    "language_info": {
      "codemirror_mode": {
        "name": "ipython",
        "version": 3
      },
      "file_extension": ".py",
      "mimetype": "text/x-python",
      "name": "python",
      "nbconvert_exporter": "python",
      "pygments_lexer": "ipython3",
      "version": "3.7.4"
    }
  },
  "nbformat": 4,
  "nbformat_minor": 0
}